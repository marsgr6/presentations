{
 "cells": [
  {
   "cell_type": "markdown",
   "metadata": {
    "collapsed": false
   },
   "source": [
    "## Proyecto final\n",
    "\n",
    "Escriba el código en las celdas a continuación de cada enunciado. \n",
    "\n",
    "Acompañe la entrega de un script (.py) para cada problema.\n",
    "\n",
    "El script debería ejecutarse desde consola recibiendo los parámetros adecuados:\n",
    "    \n",
    "```text\n",
    "python script.py arg1[, arg2, ..., argN]\n",
    "```"
   ]
  },
  {
   "cell_type": "markdown",
   "metadata": {
    "collapsed": false
   },
   "source": [
    "### Datos\n",
    "\n",
    "Descargue el dataset [drive40](https://share.cocalc.com/share/1cc7dfb05c8a84d56bececafb1b00f84ee37c3aa/python_cs101/data/drive40.zip?viewer=share).\n",
    "\n",
    "- Grafique los datos como una matriz única de numpy:\n",
    "\n",
    "![](https://raw.githubusercontent.com/marsgr6/r-scripts/master/imgs/iris01.png)\n",
    "\n",
    "- Haga un recorte de las imágenes (matrices):\n",
    "  - Las imágenes recortadas deben ser de $530\\times530$ píxeles. \n",
    "  - Debe conservarse la mayor cantidad de información posible, es decir debe recortar los bordes de cada imagen. \n",
    "  - Si una imagen contiene información pixel blanco < a 530, el recorte debe estar centrado, los bordes negros incluidos deben ser iguales a derecha, izquierda, arriba, abajo. \n",
    "  - Si una imagen contiene información pixel blanco > a 530, el recorte debe estar centrado, la imagen se recorta en partes iguales a derecha, izquierda, arriba, abajo.\n",
    "\n",
    "- **Se muestra a continuación un ejemplo del recorte:**\n",
    "  - Se ha identificado los pixeles en blanco, mínimos y máximos (recuadro rojo). \n",
    "    - La información se encuentra encerrada en un recuadro de $533\\times 526$ de ancho y alto.\n",
    "    - Se deben eleminar 3 pixeles de ancho y agregar 4 píxeles de alto para que la imagen sea de $530\\times530$ píxeles.\n",
    "    - El recorte debe ser centrado, \n",
    "      - se eliminan 2 píxeles a derecha, 1 a izquierda.\n",
    "      - se agregan 2 píxeles arriba, 2 píxeles abajo.\n",
    "      - Vea recuadro verde. \n",
    "- **Tenga en cuenta que al centrar el recorte puede salir de los límites de la imagen, debe corregir estos casos para que el recorte quede dentro de los límites de la imagen.**\n",
    "\n",
    "![](https://raw.githubusercontent.com/marsgr6/r-scripts/master/imgs/cropped_iris.png)\n",
    "\n",
    "  \n",
    "- El resultado del recorte para el dataset completo, $P=40$ imágenes, se muestra a continuacón:\n",
    "\n",
    "![](https://raw.githubusercontent.com/marsgr6/r-scripts/master/imgs/iris_cropped.png)\n",
    "\n",
    "- Calcule una matriz de distancias de hamming a partir de los 40 patrones:\n",
    "  - Vea seaborn [heatmaps](https://seaborn.pydata.org/generated/seaborn.heatmap.html)\n",
    "\n",
    "![](https://raw.githubusercontent.com/marsgr6/r-scripts/master/imgs/hamming_distance.png)\n",
    "\n",
    "- Grafique la distancia promedio de cada patrón con el resto de los patrones:\n",
    "\n",
    "  - En azul, cada patrón de acuerdo a su índice (1,..., 40).\n",
    "  - En naranja, los patrones ordenados de menor a mayor distancia promedio con el resto del dataset.\n",
    "\n",
    "![](https://raw.githubusercontent.com/marsgr6/r-scripts/master/imgs/hd_ordered.png)"
   ]
  },
  {
   "cell_type": "code",
   "execution_count": 1,
   "metadata": {
    "collapsed": false
   },
   "outputs": [
   ],
   "source": [
    "# Escriba el código en esta celda"
   ]
  }
 ],
 "metadata": {
  "kernelspec": {
   "display_name": "Python 3 (system-wide)",
   "language": "python",
   "metadata": {
    "cocalc": {
     "description": "Python 3 programming language",
     "priority": 100,
     "url": "https://www.python.org/"
    }
   },
   "name": "python3",
   "resource_dir": "/ext/jupyter/kernels/python3"
  },
  "language_info": {
   "codemirror_mode": {
    "name": "ipython",
    "version": 3
   },
   "file_extension": ".py",
   "mimetype": "text/x-python",
   "name": "python",
   "nbconvert_exporter": "python",
   "pygments_lexer": "ipython3",
   "version": "3.8.3"
  }
 },
 "nbformat": 4,
 "nbformat_minor": 4
}