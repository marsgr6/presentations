{
 "cells": [
  {
   "cell_type": "markdown",
   "metadata": {
    "collapsed": false
   },
   "source": [
    "## Conjunto 3 de problemas\n",
    "\n",
    "Escriba el código en las celdas a continuación de cada enunciado. \n",
    "\n",
    "Acompañe la entrega de un script (.py) para cada problema.\n",
    "\n",
    "El script debería ejecutarse desde consola recibiendo los parámetros adecuados:\n",
    "    \n",
    "```text\n",
    "python script.py arg1[, arg2, ..., argN]\n",
    "```"
   ]
  },
  {
   "cell_type": "markdown",
   "metadata": {
    "collapsed": false
   },
   "source": [
    "### Problema \n",
    "\n",
    "- Implemente el cálculo del área bajo una curva o de una figura geométrica usando POO.\n",
    "\n",
    "![](https://raw.githubusercontent.com/marsgr6/r-scripts/master/imgs/uml_mc.png)\n",
    "\n",
    "- Monte Carlo: ejemplo.\n",
    "\n",
    "![](https://raw.githubusercontent.com/marsgr6/r-scripts/master/imgs/mc_area.png)"
   ]
  },
  {
   "cell_type": "code",
   "execution_count": 1,
   "metadata": {
    "collapsed": false
   },
   "outputs": [
   ],
   "source": [
    "# Escriba el código en esta celda"
   ]
  }
 ],
 "metadata": {
  "kernelspec": {
   "display_name": "Python 3 (system-wide)",
   "language": "python",
   "metadata": {
    "cocalc": {
     "description": "Python 3 programming language",
     "priority": 100,
     "url": "https://www.python.org/"
    }
   },
   "name": "python3",
   "resource_dir": "/ext/jupyter/kernels/python3"
  },
  "language_info": {
   "codemirror_mode": {
    "name": "ipython",
    "version": 3
   },
   "file_extension": ".py",
   "mimetype": "text/x-python",
   "name": "python",
   "nbconvert_exporter": "python",
   "pygments_lexer": "ipython3",
   "version": "3.8.3"
  }
 },
 "nbformat": 4,
 "nbformat_minor": 4
}