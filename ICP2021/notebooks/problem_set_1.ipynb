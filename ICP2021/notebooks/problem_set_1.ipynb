{
 "cells": [
  {
   "cell_type": "markdown",
   "metadata": {},
   "source": [
    "## Conjunto 1 de problemas\n",
    "\n",
    "Escriba el código en las celdas a continuación de cada enunciado. \n",
    "\n",
    "Acompañe la entrega de un script (.py) para cada problema.\n",
    "\n",
    "El script debería ejecutarse desde consola recibiendo los parámetros adecuados:\n",
    "    \n",
    "```text\n",
    "python script.py arg1[, arg2, ..., argN]\n",
    "```"
   ]
  },
  {
   "cell_type": "markdown",
   "metadata": {},
   "source": [
    "### Problema 1\n",
    "\n",
    "Suponga que **s** es una cadena de caracteres en minúscula.\n",
    "\n",
    "Escriba un programa que cuente el número de vocales contenidas en la cadena **s**.\n",
    "\n",
    "Las vocales válidas son: 'a', 'e', 'i', 'o' y 'u'. \n",
    "Por ejemplo, si **s = 'azcbobobegghakl'**, su programa debería imprimir:\n",
    "\n",
    "```text\n",
    "Número de vocales: 5\n",
    "```"
   ]
  },
  {
   "cell_type": "code",
   "execution_count": 1,
   "metadata": {},
   "outputs": [],
   "source": [
    "# Escriba el código en esta celda"
   ]
  },
  {
   "cell_type": "markdown",
   "metadata": {},
   "source": [
    "### Problema 2\n",
    "\n",
    "Suponga que **s** es una cadena de caracteres en minúscula.\n",
    "\n",
    "Escriba un programa que imprima el número de veces que ocurre la cadena 'bob' en s. \n",
    "\n",
    "Por ejemplo, si **s = 'azcbobobegghakl'**, entonces su programa debería imprimir\n",
    "\n",
    "```text\n",
    "El número de veces que ocurre bob es: 2\n",
    "```"
   ]
  },
  {
   "cell_type": "code",
   "execution_count": 2,
   "metadata": {},
   "outputs": [],
   "source": [
    "# Escriba el código en esta celda"
   ]
  },
  {
   "cell_type": "markdown",
   "metadata": {},
   "source": [
    "### Problema 3\n",
    "\n",
    "Suponga que **s** es una cadena de caracteres en minúscula.\n",
    "\n",
    "Escriba un programa que imprima la subcadena más larga de s en la que las letras aparecen en orden alfabético.\n",
    "\n",
    "Por ejemplo, si **s = 'azcbobobegghakl'**, entonces su programa debería imprimir\n",
    "\n",
    "```text\n",
    "La subcadena más larga en orden alfabético es: beggh \n",
    "```\n",
    "\n",
    "En el caso de empates, imprima la primera subcadena.\n",
    "\n",
    "Por ejemplo, si **s = 'abcbcd'**, entonces su programa debería imprimir\n",
    "\n",
    "```text\n",
    "La subcadena más larga en orden alfabético es: abc\n",
    "```"
   ]
  },
  {
   "cell_type": "code",
   "execution_count": 3,
   "metadata": {},
   "outputs": [],
   "source": [
    "# Escriba el código en esta celda"
   ]
  },
  {
   "cell_type": "markdown",
   "metadata": {},
   "source": [
    "### Problem 4 \n",
    "\n",
    "Dada una matriz cuadrada de tamaño $n \\times n$, \n",
    "la tarea es encontrar la suma de todos los elementos en cada \n",
    "porción cuando la matriz se divide en cuatro partes a \n",
    "lo largo de sus diagonales. \n",
    "Los elementos en las diagonales no deben contarse en la suma.\n",
    "\n",
    "![](https://media.geeksforgeeks.org/wp-content/cdn-uploads/20200214105606/Sum-of-elements-when-N-X-N-matrix-is-divided-into-four-portions-along-its-diagonals-2-300x298.png)\n",
    "\n",
    "El resultado para la figura arriba es: \n",
    "\n",
    "```text\n",
    "La suma sin las diagonales es: 68.\n",
    "```"
   ]
  },
  {
   "cell_type": "code",
   "execution_count": 4,
   "metadata": {},
   "outputs": [],
   "source": [
    "# Escriba el código en esta celda"
   ]
  }
 ],
 "metadata": {
  "kernelspec": {
   "display_name": "Python 3",
   "language": "python",
   "name": "python3"
  },
  "language_info": {
   "codemirror_mode": {
    "name": "ipython",
    "version": 3
   },
   "file_extension": ".py",
   "mimetype": "text/x-python",
   "name": "python",
   "nbconvert_exporter": "python",
   "pygments_lexer": "ipython3",
   "version": "3.8.3"
  }
 },
 "nbformat": 4,
 "nbformat_minor": 4
}
