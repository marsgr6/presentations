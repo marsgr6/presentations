{
 "cells": [
  {
   "cell_type": "markdown",
   "metadata": {
    "collapsed": false
   },
   "source": [
    "## Conjunto 3 de problemas\n",
    "\n",
    "Escriba el código en las celdas a continuación de cada enunciado. \n",
    "\n",
    "Acompañe la entrega de un script (.py) para cada problema.\n",
    "\n",
    "El script debería ejecutarse desde consola recibiendo los parámetros adecuados:\n",
    "    \n",
    "```text\n",
    "python script.py arg1[, arg2, ..., argN]\n",
    "```"
   ]
  },
  {
   "cell_type": "markdown",
   "metadata": {
    "collapsed": false
   },
   "source": [
    "### Problema 1: Evaluando un mal clasificador\n",
    "\n",
    "Lea el siguiente array multidimensional en numpy (5, 10, 10): [datos](https://share.cocalc.com/share/1cc7dfb05c8a84d56bececafb1b00f84ee37c3aa/python_cs101/data/overlap_matrix.npy?viewer=raw).\n",
    "\n",
    "**Construya una matriz de confusión a partir del array multidimensional de similitud.**\n",
    "\n",
    "- Una red de Hopfield es alimentada con 10 patrones prototipo (dígitos del [MNIST](http://yann.lecun.com/exdb/mnist/)). \n",
    "\n",
    "  ![](https://upload.wikimedia.org/wikipedia/commons/2/27/MnistExamples.png)\n",
    "\n",
    "  - La red se evalúa con 5 subconjuntos conteniendo los 10 dígitos (50 patrones en total, 5 de cada dígito), y devuelve la similitud con cada dígito para cada una de las 5 evaluaciones. \n",
    "\n",
    "  - El patrón con mayor similitud es asignado como recuperado por la red, identifique este patrón (en cada fila de cada matriz $10\\times10$) e incremente la posición correcta en la matriz de confusión.\n",
    "  \n",
    "  - Los patrones están ordenados, cada índice en la matriz corresponde al dígito. \n",
    "\n",
    "- En la figura a continuación se muestra uno de estos resultados, cada fila mide la similitud del patrón de prueba con los 10 digitos almacenados en la red.\n",
    "  - Debe identificar la similitud más alta en valor absoluto (panel derecho, recuadros verdes). \n",
    "  - Si este está en la diagonal de la matrix de similitud, el patrón ha sido identificado correctamente. \n",
    "    - Solamente el patrón correspondiente al dígito 2 ha sido identificado correctamente en la figura abajo.\n",
    "    - Vea seaborn [heatmaps](https://seaborn.pydata.org/generated/seaborn.heatmap.html)\n",
    "  \n",
    "![](https://raw.githubusercontent.com/marsgr6/r-scripts/master/imgs/hms_ann.png)\n",
    "  \n",
    "- **El resultado final para las 5 pruebas realizadas, array de (5, 10, 10), se muestra a continuación:**\n",
    "\n",
    "![](https://raw.githubusercontent.com/marsgr6/r-scripts/master/imgs/cmminst.png)"
   ]
  },
  {
   "cell_type": "code",
   "execution_count": 1,
   "metadata": {
    "collapsed": false
   },
   "outputs": [
   ],
   "source": [
    "# Escriba el código en esta celda"
   ]
  },
  {
   "cell_type": "markdown",
   "metadata": {
    "collapsed": false
   },
   "source": [
    "# Problema 2\n",
    "\n",
    "A partir de los archivos en el siguiente [enlace](https://share.cocalc.com/share/1cc7dfb05c8a84d56bececafb1b00f84ee37c3aa/python_cs101/misc/ann245.zip?viewer=raw)\n",
    "\n",
    "- Lea los archivos y su contenido:\n",
    "   - La primera línea indica el orden de los patrones que han sido enviado a los módulos de una red neuronal.\n",
    "   - Las siguientes líneas indican los resultados de cada recuperación de patrón.\n",
    "   - Cada archivo tiene el siguiente número de líneas: 20 patrones $\\times$ número de bloques.\n",
    "   - Para cada grupo de 20 patrones identifique los que fueron enviados a cada bloque de acuerdo a la primera línea.\n",
    "  \n",
    "- El gráfico abajo muestra el contenido de uno de estos archivos para 4 módulos:\n",
    "  - Note que se usa un umbral $\\theta_r = 0.7$, donde se considera que un patrón ha sido recuperado si tiene un valor mayor a este umbral.\n",
    "\n",
    "![](https://raw.githubusercontent.com/marsgr6/r-scripts/master/imgs/figannm.png)\n",
    "\n",
    "- Hay 6 grupos de 100 archivos:\n",
    "\n",
    "| Patrón  | Tipo | Bloques |\n",
    "| ------------- | ------------- | :-------------: |\n",
    "| RD2  | Random | 2   |\n",
    "| GL2  | By overlap | 2   |\n",
    "| RD4  | Random | 4   |\n",
    "| GL4  | By overlap | 4   |\n",
    "| RD5  | Random | 5   |\n",
    "| GL5  | By overlap | 5   |\n",
    "\n",
    "- Para cada archivo en cada grupo identifique el número de patrones recuperados $P_r \\leq P$ del total de $P=20$ patrones aprendidos.\n",
    "  \n",
    "- Tendrá 100 valores para $P_r$ en cada grupo de la tabla arriba.\n",
    "  \n",
    "- Cree un dataframe con la estructura adecuada para generar el siguiente gráfico de violin:\n",
    "\n",
    "![](https://raw.githubusercontent.com/marsgr6/r-scripts/master/imgs/figannv.png)\n",
    "\n",
    "- Vea gráficos de violín en [seaborn](https://seaborn.pydata.org/generated/seaborn.violinplot.html).\n",
    "  - Tenga en cuenta los parámetros: \n",
    "    - cut\n",
    "    - scale_hue"
   ]
  },
  {
   "cell_type": "code",
   "execution_count": 2,
   "metadata": {
    "collapsed": false
   },
   "outputs": [
   ],
   "source": [
    "# Escriba el código en esta celda"
   ]
  }
 ],
 "metadata": {
  "kernelspec": {
   "display_name": "Python 3 (system-wide)",
   "language": "python",
   "metadata": {
    "cocalc": {
     "description": "Python 3 programming language",
     "priority": 100,
     "url": "https://www.python.org/"
    }
   },
   "name": "python3",
   "resource_dir": "/ext/jupyter/kernels/python3"
  },
  "language_info": {
   "codemirror_mode": {
    "name": "ipython",
    "version": 3
   },
   "file_extension": ".py",
   "mimetype": "text/x-python",
   "name": "python",
   "nbconvert_exporter": "python",
   "pygments_lexer": "ipython3",
   "version": "3.8.3"
  }
 },
 "nbformat": 4,
 "nbformat_minor": 4
}