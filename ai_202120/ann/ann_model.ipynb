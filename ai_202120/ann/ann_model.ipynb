{
 "cells": [
  {
   "cell_type": "code",
   "execution_count": 1,
   "metadata": {
    "collapsed": false
   },
   "outputs": [
   ],
   "source": [
    "import numpy as np\n",
    "from scipy.stats import bernoulli\n",
    "import matplotlib.pyplot as plt"
   ]
  },
  {
   "cell_type": "code",
   "execution_count": 38,
   "metadata": {
    "collapsed": false
   },
   "outputs": [
    {
     "data": {
      "text/plain": [
       "[array([0, 1, 0, 1, 1, 0, 0, 0, 0, 0]),\n",
       " array([1, 0, 0, 0, 0, 0, 1, 1, 0, 1]),\n",
       " array([1, 1, 0, 0, 1, 1, 0, 0, 0, 1]),\n",
       " array([1, 1, 1, 0, 1, 0, 0, 1, 0, 0]),\n",
       " array([1, 0, 1, 0, 0, 1, 1, 0, 1, 0]),\n",
       " array([0, 0, 0, 1, 0, 0, 1, 0, 0, 0]),\n",
       " array([0, 0, 0, 0, 1, 1, 0, 0, 1, 1]),\n",
       " array([1, 1, 1, 1, 0, 0, 0, 0, 1, 1]),\n",
       " array([1, 0, 0, 0, 0, 0, 1, 0, 0, 0]),\n",
       " array([0, 0, 1, 0, 0, 0, 1, 0, 0, 0])]"
      ]
     },
     "execution_count": 38,
     "metadata": {
     },
     "output_type": "execute_result"
    }
   ],
   "source": [
    "# Random network\n",
    "N = 10\n",
    "K = 4\n",
    "p = K/N\n",
    "C = []\n",
    "for i in range(N):\n",
    "    C += [np.insert(bernoulli.rvs(p, size=(N-1)), i, 0)]\n",
    "C"
   ]
  },
  {
   "cell_type": "code",
   "execution_count": 11,
   "metadata": {
    "collapsed": false
   },
   "outputs": [
    {
     "data": {
      "text/plain": [
       "(array([[1, 9, 2, 8],\n",
       "        [2, 0, 3, 9],\n",
       "        [3, 1, 4, 0],\n",
       "        [4, 2, 5, 1],\n",
       "        [5, 3, 6, 2],\n",
       "        [6, 4, 7, 3],\n",
       "        [7, 5, 8, 4],\n",
       "        [8, 6, 9, 5],\n",
       "        [9, 7, 0, 6],\n",
       "        [0, 8, 1, 7]]),\n",
       " [array([-1, -1, -1,  1]),\n",
       "  array([ 1, -1,  1, -1]),\n",
       "  array([-1,  1,  1,  1]),\n",
       "  array([-1,  1,  1,  1]),\n",
       "  array([ 1,  1, -1,  1]),\n",
       "  array([-1, -1, -1, -1]),\n",
       "  array([1, 1, 1, 1]),\n",
       "  array([ 1, -1, -1,  1]),\n",
       "  array([1, 1, 1, 1]),\n",
       "  array([ 1,  1,  1, -1])],\n",
       " array([1, 1, 1, 1, 1, 0, 1, 1, 0, 1]))"
      ]
     },
     "execution_count": 11,
     "metadata": {
     },
     "output_type": "execute_result"
    }
   ],
   "source": [
    "# Ring network\n",
    "N = 10  # nodes\n",
    "K = 4  # degree\n",
    "C = np.zeros((10,4), dtype='int')\n",
    "for i in range(K//2):\n",
    "    C[:,i*2] = np.array(range(N)) + (i+1)\n",
    "    C[:,i*2+1] = np.array(range(N)) - (i+1)\n",
    "C[np.where(C < 0)] = C[np.where(C < 0)] + N\n",
    "C[np.where(C > N-1)] = C[np.where(C > N-1)] - N\n",
    "\n",
    "W = [bernoulli.rvs(0.5, size=len(ci))*2-1 for ci in C]\n",
    "x = bernoulli.rvs(0.5, size=N)\n",
    "C, W, x"
   ]
  },
  {
   "cell_type": "code",
   "execution_count": 23,
   "metadata": {
    "collapsed": false
   },
   "outputs": [
    {
     "data": {
      "text/plain": [
       "([array([0, 0]),\n",
       "  array([0, 0]),\n",
       "  array([0, 0]),\n",
       "  array([0, 0]),\n",
       "  array([0, 0]),\n",
       "  array([0, 0]),\n",
       "  array([0, 0]),\n",
       "  array([0, 0]),\n",
       "  array([0, 0]),\n",
       "  array([0, 0])],\n",
       " array([[1, 9],\n",
       "        [2, 0],\n",
       "        [3, 1],\n",
       "        [4, 2],\n",
       "        [5, 3],\n",
       "        [6, 4],\n",
       "        [7, 5],\n",
       "        [8, 6],\n",
       "        [9, 7],\n",
       "        [0, 8]]),\n",
       " array([-1, -1,  1, -1,  1,  1, -1, -1,  1,  1]))"
      ]
     },
     "execution_count": 23,
     "metadata": {
     },
     "output_type": "execute_result"
    }
   ],
   "source": [
    "# Hebb learning\n",
    "# Ring network\n",
    "N = 10  # nodes\n",
    "K = 2  # degree\n",
    "C = np.zeros((N,K), dtype='int')\n",
    "for i in range(K//2):\n",
    "    C[:,i*2] = np.array(range(N)) + (i+1)\n",
    "    C[:,i*2+1] = np.array(range(N)) - (i+1)\n",
    "C[np.where(C < 0)] = C[np.where(C < 0)] + N\n",
    "C[np.where(C > N-1)] = C[np.where(C > N-1)] - N\n",
    "\n",
    "W = [np.zeros(len(ci), dtype='int') for ci in C]\n",
    "xi = bernoulli.rvs(0.5, size=N)*2-1\n",
    "\n",
    "W, C, xi"
   ]
  },
  {
   "cell_type": "code",
   "execution_count": 30,
   "metadata": {
    "collapsed": false
   },
   "outputs": [
    {
     "data": {
      "text/plain": [
       "[array([0, 0]),\n",
       " array([0, 0]),\n",
       " array([0, 0]),\n",
       " array([0, 0]),\n",
       " array([0, 0]),\n",
       " array([0, 0]),\n",
       " array([0, 0]),\n",
       " array([-1,  1]),\n",
       " array([0, 0]),\n",
       " array([0, 0])]"
      ]
     },
     "execution_count": 30,
     "metadata": {
     },
     "output_type": "execute_result"
    }
   ],
   "source": [
    "# Hebbian learning\n",
    "C[7],xi[C[7]],xi[C[7]]*xi[7]\n",
    "W[7] += xi[C[7]]*xi[7]\n",
    "W"
   ]
  },
  {
   "cell_type": "code",
   "execution_count": 41,
   "metadata": {
    "collapsed": false
   },
   "outputs": [
    {
     "data": {
      "text/plain": [
       "0.0"
      ]
     },
     "execution_count": 41,
     "metadata": {
     },
     "output_type": "execute_result"
    }
   ],
   "source": [
    "xir  = bernoulli.rvs(0.5, size=N)*2-1\n",
    "np.sum(xi*(xir*-1))/N"
   ]
  },
  {
   "cell_type": "code",
   "execution_count": 14,
   "metadata": {
    "collapsed": false
   },
   "outputs": [
    {
     "name": "stdout",
     "output_type": "stream",
     "text": [
      "[3 1 4 0] [0 0 1 0] [-1  1  1 -1]\n"
     ]
    },
    {
     "data": {
      "text/plain": [
       "1"
      ]
     },
     "execution_count": 14,
     "metadata": {
     },
     "output_type": "execute_result"
    }
   ],
   "source": [
    "# evolution \n",
    "neuron_i = 2\n",
    "print(C[neuron_i], x[C[neuron_i]], W[neuron_i])\n",
    "np.sum(x[C[neuron_i]]*W[neuron_i])"
   ]
  },
  {
   "cell_type": "code",
   "execution_count": 61,
   "metadata": {
    "collapsed": false
   },
   "outputs": [
    {
     "data": {
      "text/plain": [
       "array([1, 2])"
      ]
     },
     "execution_count": 61,
     "metadata": {
     },
     "output_type": "execute_result"
    }
   ],
   "source": [
    "L = np.array([1, 2, 3])\n",
    "L[[0, 1]]"
   ]
  },
  {
   "cell_type": "code",
   "execution_count": 33,
   "metadata": {
    "collapsed": false
   },
   "outputs": [
    {
     "name": "stderr",
     "output_type": "stream",
     "text": [
      "/home/nbuser/anaconda3_501/lib/python3.6/site-packages/matplotlib/font_manager.py:229: UserWarning: Matplotlib is building the font cache using fc-list. This may take a moment.\n",
      "  'Matplotlib is building the font cache using fc-list. '\n"
     ]
    }
   ],
   "source": [
    "import matplotlib.pyplot as plt"
   ]
  },
  {
   "cell_type": "code",
   "execution_count": 37,
   "metadata": {
    "collapsed": false
   },
   "outputs": [
    {
     "data": {
      "text/plain": [
       "<matplotlib.image.AxesImage at 0x7f46189841d0>"
      ]
     },
     "execution_count": 37,
     "metadata": {
     },
     "output_type": "execute_result"
    },
    {
     "data": {
      "image/png": "[encoded data removed]",
      "text/plain": [
       "<Figure size 288x288 with 1 Axes>"
      ]
     },
     "execution_count": 37,
     "metadata": {
      "needs_background": "light"
     },
     "output_type": "execute_result"
    },
    {
     "data": {
      "image/png": "[encoded data removed]",
      "text/plain": [
       "<Figure size 288x288 with 1 Axes>"
      ]
     },
     "execution_count": 37,
     "metadata": {
      "needs_background": "light"
     },
     "output_type": "execute_result"
    }
   ],
   "source": [
    "plt.matshow(np.array([np.insert(bernoulli.rvs(p, size=(N-1)), i, 0) for i in range(N)]))\n",
    "plt.matshow(np.array([np.insert(bernoulli.rvs(p, size=(N-1)), i, 0) for i in range(N)]))"
   ]
  },
  {
   "cell_type": "code",
   "execution_count": 63,
   "metadata": {
    "collapsed": false
   },
   "outputs": [
    {
     "data": {
      "text/plain": [
       "[array([0, 0, 1, 1, 0, 1, 0, 0, 0, 1]),\n",
       " array([0, 0, 0, 0, 0, 1, 1, 0, 0, 1]),\n",
       " array([1, 0, 0, 0, 0, 0, 1, 0, 0, 1]),\n",
       " array([0, 0, 0, 0, 0, 0, 1, 1, 1, 1]),\n",
       " array([1, 1, 1, 1, 0, 1, 1, 1, 0, 1]),\n",
       " array([1, 1, 0, 1, 1, 0, 0, 0, 1, 1]),\n",
       " array([0, 0, 1, 0, 0, 1, 0, 0, 0, 0]),\n",
       " array([0, 0, 0, 0, 0, 1, 1, 0, 0, 0]),\n",
       " array([0, 0, 0, 0, 0, 0, 0, 1, 0, 0]),\n",
       " array([0, 1, 1, 1, 0, 1, 0, 1, 1, 0])]"
      ]
     },
     "execution_count": 63,
     "metadata": {
     },
     "output_type": "execute_result"
    }
   ],
   "source": [
    "[np.insert(bernoulli.rvs(p, size=(N-1)), i, 0) for i in range(N)]"
   ]
  },
  {
   "cell_type": "code",
   "execution_count": 2,
   "metadata": {
    "collapsed": false
   },
   "outputs": [
    {
     "data": {
      "text/plain": [
       "(array([[1, 4],\n",
       "        [2, 0],\n",
       "        [3, 1],\n",
       "        [4, 2],\n",
       "        [0, 3]]),\n",
       " [array([-1, -1]),\n",
       "  array([ 1, -1]),\n",
       "  array([-1, -1]),\n",
       "  array([ 1, -1]),\n",
       "  array([-1,  1])],\n",
       " array([0, 1, 0, 0, 0]))"
      ]
     },
     "execution_count": 2,
     "metadata": {
     },
     "output_type": "execute_result"
    }
   ],
   "source": [
    "# Ring network\n",
    "N = 5  # nodes\n",
    "K = 2  # degree\n",
    "C = np.zeros((N,K), dtype='int')\n",
    "for i in range(K//2):\n",
    "    C[:,i*2] = np.array(range(N)) + (i+1)\n",
    "    C[:,i*2+1] = np.array(range(N)) - (i+1)\n",
    "C[np.where(C < 0)] = C[np.where(C < 0)] + N\n",
    "C[np.where(C > N-1)] = C[np.where(C > N-1)] - N\n",
    "\n",
    "W = [bernoulli.rvs(0.5, size=len(ci))*2-1 for ci in C]\n",
    "x = bernoulli.rvs(0.5, size=N)\n",
    "C, W, x"
   ]
  },
  {
   "cell_type": "code",
   "execution_count": 9,
   "metadata": {
    "collapsed": false
   },
   "outputs": [
    {
     "data": {
      "text/plain": [
       "<matplotlib.image.AxesImage at 0x7fed965172e8>"
      ]
     },
     "execution_count": 9,
     "metadata": {
     },
     "output_type": "execute_result"
    },
    {
     "data": {
      "image/png": "[encoded data removed]",
      "text/plain": [
       "<Figure size 288x288 with 1 Axes>"
      ]
     },
     "execution_count": 9,
     "metadata": {
      "needs_background": "light"
     },
     "output_type": "execute_result"
    }
   ],
   "source": [
    "pat = bernoulli.rvs(0.5, size=(10,10))*2-1\n",
    "plt.matshow(pat)"
   ]
  },
  {
   "cell_type": "code",
   "execution_count": 10,
   "metadata": {
    "collapsed": false
   },
   "outputs": [
    {
     "data": {
      "text/plain": [
       "<matplotlib.image.AxesImage at 0x7fed964e7908>"
      ]
     },
     "execution_count": 10,
     "metadata": {
     },
     "output_type": "execute_result"
    },
    {
     "data": {
      "image/png": "[encoded data removed]",
      "text/plain": [
       "<Figure size 288x288 with 1 Axes>"
      ]
     },
     "execution_count": 10,
     "metadata": {
      "needs_background": "light"
     },
     "output_type": "execute_result"
    }
   ],
   "source": [
    "plt.matshow(pat*-1)"
   ]
  },
  {
   "cell_type": "code",
   "execution_count": 33,
   "metadata": {
    "collapsed": false
   },
   "outputs": [
    {
     "data": {
      "text/plain": [
       "1.0"
      ]
     },
     "execution_count": 33,
     "metadata": {
     },
     "output_type": "execute_result"
    }
   ],
   "source": [
    "np.sum(pat.flatten()*pat.flatten())/100"
   ]
  },
  {
   "cell_type": "code",
   "execution_count": 3,
   "metadata": {
    "collapsed": false
   },
   "outputs": [
   ],
   "source": [
    "import numpy as np\n",
    "from scipy.stats import bernoulli\n",
    "import matplotlib.pyplot as plt\n",
    "from skimage.morphology import skeletonize\n",
    "import pandas as pd"
   ]
  },
  {
   "cell_type": "code",
   "execution_count": 4,
   "metadata": {
    "collapsed": false
   },
   "outputs": [
   ],
   "source": [
    "mnist = pd.read_csv('https://raw.githubusercontent.com/sbussmann/kaggle-mnist/master/Data/train.csv')"
   ]
  },
  {
   "cell_type": "code",
   "execution_count": 6,
   "metadata": {
    "collapsed": false
   },
   "outputs": [
    {
     "data": {
      "text/plain": [
       "<matplotlib.image.AxesImage at 0x7f6c7786ec88>"
      ]
     },
     "execution_count": 6,
     "metadata": {
     },
     "output_type": "execute_result"
    },
    {
     "data": {
      "image/png": "[encoded data removed]",
      "text/plain": [
       "<Figure size 288x288 with 1 Axes>"
      ]
     },
     "execution_count": 6,
     "metadata": {
      "needs_background": "light"
     },
     "output_type": "execute_result"
    }
   ],
   "source": [
    "digit = np.array(mnist.iloc[3][1:])\n",
    "digit = np.reshape(digit, (28,28))\n",
    "digit[np.where(digit > 0)] = 1\n",
    "plt.matshow(digit, cmap='gray')"
   ]
  },
  {
   "cell_type": "code",
   "execution_count": 7,
   "metadata": {
    "collapsed": false
   },
   "outputs": [
   ],
   "source": [
    "skeleton = skeletonize(digit)"
   ]
  },
  {
   "cell_type": "code",
   "execution_count": 8,
   "metadata": {
    "collapsed": false
   },
   "outputs": [
    {
     "data": {
      "text/plain": [
       "<matplotlib.image.AxesImage at 0x7f6c77592d30>"
      ]
     },
     "execution_count": 8,
     "metadata": {
     },
     "output_type": "execute_result"
    },
    {
     "data": {
      "image/png": "[encoded data removed]",
      "text/plain": [
       "<Figure size 288x288 with 1 Axes>"
      ]
     },
     "execution_count": 8,
     "metadata": {
      "needs_background": "light"
     },
     "output_type": "execute_result"
    }
   ],
   "source": [
    "plt.matshow(skeleton, cmap='gray')"
   ]
  },
  {
   "cell_type": "code",
   "execution_count": 9,
   "metadata": {
    "collapsed": false
   },
   "outputs": [
   ],
   "source": [
    "import sknw"
   ]
  },
  {
   "cell_type": "code",
   "execution_count": 10,
   "metadata": {
    "collapsed": false
   },
   "outputs": [
    {
     "name": "stdout",
     "output_type": "stream",
     "text": [
      "[[ 6  7]\n",
      " [ 7  7]\n",
      " [ 8  7]\n",
      " [ 9  8]\n",
      " [10  8]\n",
      " [11  8]\n",
      " [12  8]\n",
      " [13  9]\n",
      " [14  9]\n",
      " [15  9]\n",
      " [16  9]\n",
      " [17  9]\n",
      " [18 10]\n",
      " [18 11]\n",
      " [18 12]\n",
      " [18 13]\n",
      " [18 14]\n",
      " [18 15]\n",
      " [17 16]\n",
      " [17 17]]\n",
      "[[ 7 17]\n",
      " [ 8 18]\n",
      " [ 9 18]\n",
      " [10 18]\n",
      " [11 18]\n",
      " [12 18]\n",
      " [13 18]\n",
      " [14 19]\n",
      " [15 19]]\n",
      "[[18 20]\n",
      " [19 20]\n",
      " [20 20]\n",
      " [21 20]\n",
      " [22 20]\n",
      " [23 20]]\n"
     ]
    },
    {
     "data": {
      "text/plain": [
       "[<matplotlib.lines.Line2D at 0x7f6c740f7ac8>]"
      ]
     },
     "execution_count": 10,
     "metadata": {
     },
     "output_type": "execute_result"
    },
    {
     "data": {
      "image/png": "[encoded data removed]",
      "text/plain": [
       "<Figure size 432x288 with 1 Axes>"
      ]
     },
     "execution_count": 10,
     "metadata": {
      "needs_background": "light"
     },
     "output_type": "execute_result"
    }
   ],
   "source": [
    "# build graph from skeleton\n",
    "graph = sknw.build_sknw(skeleton)\n",
    "\n",
    "# draw image\n",
    "plt.imshow(digit, cmap='gray')\n",
    "\n",
    "cols = [\"green\", \"red\", \"blue\"]\n",
    "i = 0\n",
    "# draw edges by pts\n",
    "for (s,e) in graph.edges():\n",
    "    ps = graph[s][e]['pts']\n",
    "    plt.plot(ps[:,1], ps[:,0], cols[i])\n",
    "    i += 1\n",
    "    print(ps)\n",
    "    \n",
    "# draw node by o\n",
    "node, nodes = graph.node, graph.nodes()\n",
    "ps = np.array([node[i]['o'] for i in nodes])\n",
    "plt.plot(ps[:,1], ps[:,0], 'r.')"
   ]
  },
  {
   "cell_type": "code",
   "execution_count": 38,
   "metadata": {
    "collapsed": false
   },
   "outputs": [
    {
     "name": "stdout",
     "output_type": "stream",
     "text": [
      "[[ 6  7]\n",
      " [ 7  7]\n",
      " [ 8  7]\n",
      " [ 9  8]\n",
      " [10  8]\n",
      " [11  8]\n",
      " [12  8]\n",
      " [13  9]\n",
      " [14  9]\n",
      " [15  9]\n",
      " [16  9]\n",
      " [17  9]\n",
      " [18 10]\n",
      " [18 11]\n",
      " [18 12]\n",
      " [18 13]\n",
      " [18 14]\n",
      " [18 15]\n",
      " [17 16]\n",
      " [17 17]]\n",
      "[[ 7 17]\n",
      " [ 8 18]\n",
      " [ 9 18]\n",
      " [10 18]\n",
      " [11 18]\n",
      " [12 18]\n",
      " [13 18]\n",
      " [14 19]\n",
      " [15 19]]\n",
      "[[18 20]\n",
      " [19 20]\n",
      " [20 20]\n",
      " [21 20]\n",
      " [22 20]\n",
      " [23 20]]\n"
     ]
    },
    {
     "data": {
      "image/png": "[encoded data removed]",
      "text/plain": [
       "<Figure size 432x288 with 1 Axes>"
      ]
     },
     "execution_count": 38,
     "metadata": {
      "needs_background": "light"
     },
     "output_type": "execute_result"
    }
   ],
   "source": [
    "graph = sknw.build_sknw(skeleton)\n",
    "i = 0\n",
    "pst = []\n",
    "for (s,e) in graph.edges():\n",
    "    ps = graph[s][e]['pts']\n",
    "    pst += [ps]\n",
    "    plt.plot(np.array(ps[:,1]), np.array(ps[:,0])*-1, cols[i])\n",
    "    i += 1\n",
    "    print(ps)\n",
    "    \n",
    "pat = np.concatenate(pst, axis=0)"
   ]
  },
  {
   "cell_type": "code",
   "execution_count": 57,
   "metadata": {
    "collapsed": false
   },
   "outputs": [
    {
     "data": {
      "image/png": "[encoded data removed]",
      "text/plain": [
       "<Figure size 432x288 with 1 Axes>"
      ]
     },
     "execution_count": 57,
     "metadata": {
      "needs_background": "light"
     },
     "output_type": "execute_result"
    },
    {
     "data": {
      "image/png": "[encoded data removed]",
      "text/plain": [
       "<Figure size 432x288 with 1 Axes>"
      ]
     },
     "execution_count": 57,
     "metadata": {
      "needs_background": "light"
     },
     "output_type": "execute_result"
    },
    {
     "data": {
      "text/plain": [
       "[<matplotlib.lines.Line2D at 0x7f6c748993c8>]"
      ]
     },
     "execution_count": 57,
     "metadata": {
     },
     "output_type": "execute_result"
    },
    {
     "data": {
      "image/png": "[encoded data removed]",
      "text/plain": [
       "<Figure size 432x288 with 1 Axes>"
      ]
     },
     "execution_count": 57,
     "metadata": {
      "needs_background": "light"
     },
     "output_type": "execute_result"
    }
   ],
   "source": [
    "from scipy import signal\n",
    "fx = signal.resample(pat[:,1], 1000)\n",
    "fy = signal.resample(pat[:,0], 1000)\n",
    "plt.plot(pat[:,1], pat[:,0]*-1)\n",
    "plt.show()\n",
    "plt.plot(fx, fy*-1)\n",
    "plt.show()\n",
    "\n",
    "xvals = np.linspace(np.min(pat[:,1]), np.max(pat[:,1]), 100)\n",
    "yinterp = np.interp(xvals, pat[:,1], pat[:,0])\n",
    "plt.plot(xvals, yinterp*-1, ':x')"
   ]
  },
  {
   "cell_type": "code",
   "execution_count": 56,
   "metadata": {
    "collapsed": false
   },
   "outputs": [
    {
     "name": "stderr",
     "output_type": "stream",
     "text": [
      "/home/nbuser/anaconda3_501/lib/python3.6/site-packages/scipy/signal/signaltools.py:2230: FutureWarning: Using a non-tuple sequence for multidimensional indexing is deprecated; use `arr[tuple(seq)]` instead of `arr[seq]`. In the future this will be interpreted as an array index, `arr[np.array(seq)]`, which will result either in an error or a different result.\n",
      "  Y[sl] += X[sl]  # add the component of X at N/2\n"
     ]
    },
    {
     "data": {
      "image/png": "[encoded data removed]",
      "text/plain": [
       "<Figure size 432x288 with 1 Axes>"
      ]
     },
     "execution_count": 56,
     "metadata": {
      "needs_background": "light"
     },
     "output_type": "execute_result"
    }
   ],
   "source": [
    "fx = signal.resample(xvals, 100)\n",
    "fy = signal.resample(yinterp, 100)\n",
    "plt.plot(fx, fy*-1, ':x')\n",
    "plt.show()"
   ]
  },
  {
   "cell_type": "code",
   "execution_count": 64,
   "metadata": {
    "collapsed": false
   },
   "outputs": [
    {
     "data": {
      "text/plain": [
       "[<matplotlib.lines.Line2D at 0x7f6c5824f860>]"
      ]
     },
     "execution_count": 64,
     "metadata": {
     },
     "output_type": "execute_result"
    },
    {
     "data": {
      "image/png": "[encoded data removed]",
      "text/plain": [
       "<Figure size 432x288 with 1 Axes>"
      ]
     },
     "execution_count": 64,
     "metadata": {
      "needs_background": "light"
     },
     "output_type": "execute_result"
    }
   ],
   "source": [
    "aux = []\n",
    "for p in pat:\n",
    "    aux +=[(p[1],p[0])]\n",
    "patrs = signal.resample(aux, 100)\n",
    "plt.plot(patrs[:,0], patrs[:,1]*-1, ':x')\n",
    "plt.plot(patrs[:,0][0], patrs[:,1][0]*-1, 'o')\n",
    "plt.plot(patrs[:,0][-1], patrs[:,1][-1]*-1, 'x')"
   ]
  },
  {
   "cell_type": "code",
   "execution_count": 67,
   "metadata": {
    "collapsed": false
   },
   "outputs": [
    {
     "data": {
      "text/plain": [
       "[<matplotlib.lines.Line2D at 0x7f6c748b72e8>]"
      ]
     },
     "execution_count": 67,
     "metadata": {
     },
     "output_type": "execute_result"
    },
    {
     "data": {
      "image/png": "[encoded data removed]",
      "text/plain": [
       "<Figure size 432x288 with 1 Axes>"
      ]
     },
     "execution_count": 67,
     "metadata": {
      "needs_background": "light"
     },
     "output_type": "execute_result"
    }
   ],
   "source": [
    "x = patrs[:,0]\n",
    "y = patrs[:,1]*-1\n",
    "plt.plot(x,y, ':x')"
   ]
  },
  {
   "cell_type": "code",
   "execution_count": 100,
   "metadata": {
    "collapsed": false
   },
   "outputs": [
    {
     "data": {
      "image/png": "[encoded data removed]",
      "text/plain": [
       "<Figure size 432x288 with 1 Axes>"
      ]
     },
     "execution_count": 100,
     "metadata": {
      "needs_background": "light"
     },
     "output_type": "execute_result"
    },
    {
     "data": {
      "text/plain": [
       "[<matplotlib.lines.Line2D at 0x7f6c51aa20b8>]"
      ]
     },
     "execution_count": 100,
     "metadata": {
     },
     "output_type": "execute_result"
    },
    {
     "data": {
      "image/png": "[encoded data removed]",
      "text/plain": [
       "<Figure size 432x288 with 1 Axes>"
      ]
     },
     "execution_count": 100,
     "metadata": {
      "needs_background": "light"
     },
     "output_type": "execute_result"
    }
   ],
   "source": [
    "def signo(delta):\n",
    "    if delta >= 0:\n",
    "        return 1\n",
    "    else:\n",
    "        return 0\n",
    "    \n",
    "    \n",
    "def make_binary(v1, v2, th=0.01):\n",
    "    delta = v1 - v2\n",
    "    if np.abs(delta) > th:\n",
    "        return signo(delta)\n",
    "    else:\n",
    "        return bernoulli.rvs(p=0.5)\n",
    "\n",
    "xb = []\n",
    "yb = []\n",
    "th = 0.05\n",
    "for i in range(1,len(x)):\n",
    "    xb += [make_binary(x[i], x[i-1], th)]\n",
    "    yb += [make_binary(y[i], y[i-1], th)]\n",
    "    #print(np.round(x[i-1], 4), np.round(x[i], 4), \n",
    "    #      np.round(y[i-1], 4), np.round(y[i], 4), xb[-1], yb[-1])\n",
    "xb = np.array(xb)\n",
    "yb = np.array(yb)\n",
    "plt.plot(np.cumsum(xb*2-1), np.cumsum(yb*2-1))\n",
    "plt.plot(np.cumsum(xb*2-1)[0], np.cumsum(yb*2-1)[0], 'x')\n",
    "plt.plot(np.cumsum(xb*2-1)[-1], np.cumsum(yb*2-1)[-1], 'o')\n",
    "plt.show()\n",
    "\n",
    "xb = []\n",
    "yb = []\n",
    "th = 0.05\n",
    "for i in range(1,len(x)):\n",
    "    xb += [make_binary(x[i], x[i-1], th)]\n",
    "    yb += [make_binary(y[i], y[i-1], th)]\n",
    "    #print(np.round(x[i-1], 4), np.round(x[i], 4), \n",
    "    #      np.round(y[i-1], 4), np.round(y[i], 4), xb[-1], yb[-1])\n",
    "xb = np.array(xb)\n",
    "yb = np.array(yb)\n",
    "plt.plot(np.cumsum(xb*2-1), np.cumsum(yb*2-1))"
   ]
  },
  {
   "cell_type": "code",
   "execution_count": 98,
   "metadata": {
    "collapsed": false
   },
   "outputs": [
    {
     "data": {
      "text/plain": [
       "0.4797979797979798"
      ]
     },
     "execution_count": 98,
     "metadata": {
     },
     "output_type": "execute_result"
    }
   ],
   "source": [
    "np.mean((np.mean(xb), np.mean(yb)))"
   ]
  },
  {
   "cell_type": "code",
   "execution_count": 30,
   "metadata": {
    "collapsed": false
   },
   "outputs": [
    {
     "data": {
      "text/plain": [
       "[<matplotlib.lines.Line2D at 0x7f34da6c66d8>]"
      ]
     },
     "execution_count": 30,
     "metadata": {
     },
     "output_type": "execute_result"
    },
    {
     "data": {
      "image/png": "[encoded data removed]",
      "text/plain": [
       "<Figure size 432x288 with 1 Axes>"
      ]
     },
     "execution_count": 30,
     "metadata": {
      "needs_background": "light"
     },
     "output_type": "execute_result"
    }
   ],
   "source": [
    "# build graph from skeleton\n",
    "graph = sknw.build_sknw(skeleton)\n",
    "\n",
    "# draw image\n",
    "plt.imshow(digit, cmap='gray')\n",
    "\n",
    "# draw edges by pts\n",
    "for (s,e) in graph.edges():\n",
    "    ps = graph[s][e]['pts']\n",
    "    plt.plot(ps[:,1], ps[:,0], 'green')\n",
    "    \n",
    "# draw node by o\n",
    "node, nodes = graph.node, graph.nodes()\n",
    "ps = np.array([node[i]['o'] for i in nodes])\n",
    "plt.plot(ps[:,1], ps[:,0], 'r.')"
   ]
  },
  {
   "cell_type": "code",
   "execution_count": 0,
   "metadata": {
    "collapsed": false
   },
   "outputs": [
   ],
   "source": [
   ]
  },
  {
   "cell_type": "code",
   "execution_count": 11,
   "metadata": {
    "collapsed": false
   },
   "outputs": [
    {
     "data": {
      "text/plain": [
       "([array([0, 0]), array([0, 0]), array([0, 0]), array([0, 0]), array([0, 0])],\n",
       " array([[1, 4],\n",
       "        [2, 0],\n",
       "        [3, 1],\n",
       "        [4, 2],\n",
       "        [0, 3]]))"
      ]
     },
     "execution_count": 11,
     "metadata": {
     },
     "output_type": "execute_result"
    }
   ],
   "source": [
    "# Hebb learning\n",
    "# Ring network\n",
    "N = 5  # nodes\n",
    "K = 2  # degree\n",
    "C = np.zeros((N,K), dtype='int')\n",
    "for i in range(K//2):\n",
    "    C[:,i*2] = np.array(range(N)) + (i+1)\n",
    "    C[:,i*2+1] = np.array(range(N)) - (i+1)\n",
    "C[np.where(C < 0)] = C[np.where(C < 0)] + N\n",
    "C[np.where(C > N-1)] = C[np.where(C > N-1)] - N\n",
    "\n",
    "W = [np.zeros(len(ci), dtype='int') for ci in C]\n",
    "\n",
    "W, C"
   ]
  },
  {
   "cell_type": "code",
   "execution_count": 6,
   "metadata": {
    "collapsed": false
   },
   "outputs": [
    {
     "data": {
      "text/plain": [
       "array([0, 1, 0, 1, 1])"
      ]
     },
     "execution_count": 6,
     "metadata": {
     },
     "output_type": "execute_result"
    }
   ],
   "source": [
    "bernoulli.rvs(0.5, size=5)"
   ]
  },
  {
   "cell_type": "code",
   "execution_count": 7,
   "metadata": {
    "collapsed": false
   },
   "outputs": [
   ],
   "source": [
    "p = _"
   ]
  },
  {
   "cell_type": "code",
   "execution_count": 9,
   "metadata": {
    "collapsed": false
   },
   "outputs": [
    {
     "data": {
      "text/plain": [
       "array([-1,  1, -1,  1,  1])"
      ]
     },
     "execution_count": 9,
     "metadata": {
     },
     "output_type": "execute_result"
    }
   ],
   "source": [
    "p*2 - 1"
   ]
  },
  {
   "cell_type": "code",
   "execution_count": 15,
   "metadata": {
    "collapsed": false
   },
   "outputs": [
    {
     "data": {
      "text/plain": [
       "array([ 1, -1])"
      ]
     },
     "execution_count": 15,
     "metadata": {
     },
     "output_type": "execute_result"
    }
   ],
   "source": [
    "# Estado de la red\n",
    "sigma = p*2 - 1\n",
    "sigma[C[3]]*sigma[3]"
   ]
  },
  {
   "cell_type": "code",
   "execution_count": 16,
   "metadata": {
    "collapsed": false
   },
   "outputs": [
   ],
   "source": [
    "# network learning\n",
    "for i in range(N):\n",
    "    W[i] += sigma[C[i]]*sigma[i]"
   ]
  },
  {
   "cell_type": "code",
   "execution_count": 25,
   "metadata": {
    "collapsed": false
   },
   "outputs": [
    {
     "data": {
      "text/plain": [
       "(array([-1,  1, -1,  1,  1]), 1.0)"
      ]
     },
     "execution_count": 25,
     "metadata": {
     },
     "output_type": "execute_result"
    }
   ],
   "source": [
    "sigma, np.sum(sigma*(p*2 - 1))/N"
   ]
  },
  {
   "cell_type": "code",
   "execution_count": 26,
   "metadata": {
    "collapsed": false
   },
   "outputs": [
    {
     "data": {
      "text/plain": [
       "(array([-1,  1, -1,  1,  1]), 1.0)"
      ]
     },
     "execution_count": 26,
     "metadata": {
     },
     "output_type": "execute_result"
    }
   ],
   "source": [
    "# network retrieval evolution\n",
    "sigma_new = sigma.copy()\n",
    "for i in range(N):\n",
    "    sigma_new[i] = signo(np.sum(sigma[C[i]]*W[i]))\n",
    "sigma_new, np.sum(sigma_new*(p*2 - 1))/N #state, overlap"
   ]
  },
  {
   "cell_type": "code",
   "execution_count": 21,
   "metadata": {
    "collapsed": false
   },
   "outputs": [
   ],
   "source": [
    "def signo(x):\n",
    "    if x < 0:\n",
    "        return -1\n",
    "    else:\n",
    "        return 1"
   ]
  },
  {
   "cell_type": "code",
   "execution_count": 17,
   "metadata": {
    "collapsed": false
   },
   "outputs": [
    {
     "data": {
      "text/plain": [
       "[array([-1, -1]),\n",
       " array([-1, -1]),\n",
       " array([-1, -1]),\n",
       " array([ 1, -1]),\n",
       " array([-1,  1])]"
      ]
     },
     "execution_count": 17,
     "metadata": {
     },
     "output_type": "execute_result"
    }
   ],
   "source": [
    "W"
   ]
  },
  {
   "cell_type": "code",
   "execution_count": 13,
   "metadata": {
    "collapsed": false
   },
   "outputs": [
    {
     "data": {
      "text/plain": [
       "(array([[1, 4],\n",
       "        [2, 0],\n",
       "        [3, 1],\n",
       "        [4, 2],\n",
       "        [0, 3]]),\n",
       " [array([0, 0]), array([0, 0]), array([0, 0]), array([0, 0]), array([0, 0])])"
      ]
     },
     "execution_count": 13,
     "metadata": {
     },
     "output_type": "execute_result"
    }
   ],
   "source": [
    "C, W"
   ]
  },
  {
   "cell_type": "code",
   "execution_count": 6,
   "metadata": {
    "collapsed": false
   },
   "outputs": [
    {
     "data": {
      "text/plain": [
       "array([-1,  1, -1,  1])"
      ]
     },
     "execution_count": 6,
     "metadata": {
     },
     "output_type": "execute_result"
    }
   ],
   "source": [
    "bernoulli.rvs(0.5, size=4)*2-1"
   ]
  },
  {
   "cell_type": "code",
   "execution_count": 8,
   "metadata": {
    "collapsed": false
   },
   "outputs": [
    {
     "data": {
      "text/plain": [
       "array([-1,  1, -1,  1])"
      ]
     },
     "execution_count": 8,
     "metadata": {
     },
     "output_type": "execute_result"
    }
   ],
   "source": [
    "p = _\n",
    "p"
   ]
  },
  {
   "cell_type": "code",
   "execution_count": 11,
   "metadata": {
    "collapsed": false
   },
   "outputs": [
    {
     "data": {
      "text/plain": [
       "-1.0"
      ]
     },
     "execution_count": 11,
     "metadata": {
     },
     "output_type": "execute_result"
    }
   ],
   "source": [
    "np.sum(p*(-1*p))/4"
   ]
  },
  {
   "cell_type": "markdown",
   "metadata": {
    "collapsed": false
   },
   "source": [
    "```\n",
    "pat=2*floor(2*rand(500,10))-1;             % Random binary pattern\n",
    "w=pat*pat';                                % Hebbian learning\n",
    "s=rand(500,1)-0.5;                         % Initialize network\n",
    "for t=2:10; s(:,t)=sign(w*s(:,t-1)); end   % Update network\n",
    "plot(s'*pat/500)                           % plot overlaps\n",
    "```"
   ]
  },
  {
   "cell_type": "code",
   "execution_count": 53,
   "metadata": {
    "collapsed": false
   },
   "outputs": [
   ],
   "source": [
    "N = 500\n",
    "P = 9\n",
    "t = 10\n",
    "pat = np.matrix(bernoulli.rvs(0.5, size=(N,P)))*2-1\n",
    "\n",
    "w = pat*np.transpose(pat)\n",
    "st_anterior = np.matrix(bernoulli.rvs(0.5, size=(N,1)))*2-1\n",
    "m = []\n",
    "for i in range(t):\n",
    "    st_actual = np.sign(w*st_anterior)\n",
    "    st_actual[np.where(st_actual == 0)] = 1\n",
    "    m += [(np.transpose(st_anterior)*pat)/N]\n",
    "    st_anterior = st_actual.copy()"
   ]
  },
  {
   "cell_type": "code",
   "execution_count": 54,
   "metadata": {
    "collapsed": false
   },
   "outputs": [
    {
     "data": {
      "image/png": "[encoded data removed]",
      "text/plain": [
       "<Figure size 432x288 with 1 Axes>"
      ]
     },
     "execution_count": 54,
     "metadata": {
      "needs_background": "light"
     },
     "output_type": "execute_result"
    }
   ],
   "source": [
    "for j in range(P):\n",
    "    data_p = []\n",
    "    for i in range(t):\n",
    "        data_p += [m[i][0,j]]\n",
    "    plt.plot(data_p)"
   ]
  },
  {
   "cell_type": "code",
   "execution_count": 140,
   "metadata": {
    "collapsed": false
   },
   "outputs": [
    {
     "data": {
      "image/png": "[encoded data removed]",
      "text/plain": [
       "<Figure size 432x288 with 1 Axes>"
      ]
     },
     "execution_count": 140,
     "metadata": {
      "needs_background": "light"
     },
     "output_type": "execute_result"
    },
    {
     "data": {
      "image/png": "[encoded data removed]",
      "text/plain": [
       "<Figure size 432x288 with 1 Axes>"
      ]
     },
     "execution_count": 140,
     "metadata": {
      "needs_background": "light"
     },
     "output_type": "execute_result"
    },
    {
     "data": {
      "text/plain": [
       "0.5024"
      ]
     },
     "execution_count": 140,
     "metadata": {
     },
     "output_type": "execute_result"
    }
   ],
   "source": [
    "from PIL import Image\n",
    "#Pixels higher than this will be 1. Otherwise 0.\n",
    "THRESHOLD_VALUE = 130\n",
    "\n",
    "#Load image and convert to greyscale\n",
    "img = Image.open(\"mandrill.png\")\n",
    "newsize = (25, 25) \n",
    "img = img.resize(newsize)\n",
    "plt.imshow(img)\n",
    "plt.show()\n",
    "\n",
    "img = img.convert(\"L\")\n",
    "\n",
    "imgData = np.asarray(img)\n",
    "thresholdedData = (imgData > THRESHOLD_VALUE) * 1.0\n",
    "\n",
    "plt.imshow(thresholdedData, cmap=\"gray\")\n",
    "plt.show()\n",
    "np.mean(thresholdedData)"
   ]
  },
  {
   "cell_type": "code",
   "execution_count": 170,
   "metadata": {
    "collapsed": false
   },
   "outputs": [
    {
     "data": {
      "text/plain": [
       "<matplotlib.image.AxesImage at 0x7fddc49ea1d0>"
      ]
     },
     "execution_count": 170,
     "metadata": {
     },
     "output_type": "execute_result"
    },
    {
     "data": {
      "image/png": "[encoded data removed]",
      "text/plain": [
       "<Figure size 432x288 with 1 Axes>"
      ]
     },
     "execution_count": 170,
     "metadata": {
      "needs_background": "light"
     },
     "output_type": "execute_result"
    }
   ],
   "source": [
    "noisy_data = thresholdedData.copy()\n",
    "noise = 0.8\n",
    "for i in range(25):\n",
    "    for j in range(25):\n",
    "        if np.random.random() < noise:\n",
    "            noisy_data[i][j] = bernoulli.rvs(0.5)\n",
    "            \n",
    "noisy_data = thresholdedData.copy()\n",
    "for i in range(20):\n",
    "    for j in range(20):\n",
    "        noisy_data[i][j] = 0\n",
    "\n",
    "plt.imshow(noisy_data, cmap=\"gray\")"
   ]
  },
  {
   "cell_type": "code",
   "execution_count": 186,
   "metadata": {
    "collapsed": false
   },
   "outputs": [
   ],
   "source": [
    "N = 25*25\n",
    "P = 29\n",
    "t = 10\n",
    "pat = np.matrix(bernoulli.rvs(0.45, size=(N,P)))*2-1\n",
    "pi = np.transpose(np.matrix(thresholdedData.flatten()*2-1))\n",
    "pi_noisy = np.transpose(np.matrix(noisy_data.flatten()*2-1))\n",
    "\n",
    "pat = np.concatenate((pat, pi), axis=1)\n",
    "\n",
    "w = pat*np.transpose(pat)\n",
    "st_anterior = pi_noisy\n",
    "m = []\n",
    "for i in range(t):\n",
    "    st_actual = np.sign(w*st_anterior)\n",
    "    st_actual[np.where(st_actual == 0)] = 1\n",
    "    m += [(np.transpose(st_anterior)*pat)/N]\n",
    "    st_anterior = st_actual.copy()\n",
    "    if i == 1:\n",
    "        st_1 = st_actual.copy()"
   ]
  },
  {
   "cell_type": "code",
   "execution_count": 188,
   "metadata": {
    "collapsed": false
   },
   "outputs": [
    {
     "data": {
      "image/png": "[encoded data removed]",
      "text/plain": [
       "<Figure size 432x288 with 1 Axes>"
      ]
     },
     "execution_count": 188,
     "metadata": {
      "needs_background": "light"
     },
     "output_type": "execute_result"
    }
   ],
   "source": [
    "for j in range(P+1):\n",
    "    data_p = []\n",
    "    for i in range(t):\n",
    "        data_p += [m[i][0,j]]\n",
    "    plt.plot(data_p)"
   ]
  },
  {
   "cell_type": "code",
   "execution_count": 173,
   "metadata": {
    "collapsed": false
   },
   "outputs": [
    {
     "data": {
      "image/png": "[encoded data removed]",
      "text/plain": [
       "<Figure size 432x288 with 1 Axes>"
      ]
     },
     "execution_count": 173,
     "metadata": {
      "needs_background": "light"
     },
     "output_type": "execute_result"
    },
    {
     "data": {
      "text/plain": [
       "<matplotlib.image.AxesImage at 0x7fddc3de2278>"
      ]
     },
     "execution_count": 173,
     "metadata": {
     },
     "output_type": "execute_result"
    },
    {
     "data": {
      "image/png": "[encoded data removed]",
      "text/plain": [
       "<Figure size 432x288 with 1 Axes>"
      ]
     },
     "execution_count": 173,
     "metadata": {
      "needs_background": "light"
     },
     "output_type": "execute_result"
    }
   ],
   "source": [
    "plt.imshow(thresholdedData, cmap=\"gray\"); plt.show()\n",
    "plt.imshow(np.reshape(st_anterior, (25,25)), cmap=\"gray\")"
   ]
  },
  {
   "cell_type": "code",
   "execution_count": 175,
   "metadata": {
    "collapsed": false
   },
   "outputs": [
    {
     "data": {
      "image/png": "[encoded data removed]",
      "text/plain": [
       "<Figure size 432x288 with 1 Axes>"
      ]
     },
     "execution_count": 175,
     "metadata": {
      "needs_background": "light"
     },
     "output_type": "execute_result"
    },
    {
     "data": {
      "image/png": "[encoded data removed]",
      "text/plain": [
       "<Figure size 432x288 with 1 Axes>"
      ]
     },
     "execution_count": 175,
     "metadata": {
      "needs_background": "light"
     },
     "output_type": "execute_result"
    },
    {
     "data": {
      "text/plain": [
       "<matplotlib.image.AxesImage at 0x7fddc40514a8>"
      ]
     },
     "execution_count": 175,
     "metadata": {
     },
     "output_type": "execute_result"
    },
    {
     "data": {
      "image/png": "[encoded data removed]",
      "text/plain": [
       "<Figure size 432x288 with 1 Axes>"
      ]
     },
     "execution_count": 175,
     "metadata": {
      "needs_background": "light"
     },
     "output_type": "execute_result"
    }
   ],
   "source": [
    "plt.imshow(noisy_data, cmap=\"gray\"); plt.show()\n",
    "plt.imshow(thresholdedData, cmap=\"gray\"); plt.show()\n",
    "plt.imshow(np.reshape(st_1, (25,25)), cmap=\"gray\")"
   ]
  }
 ],
 "metadata": {
  "kernelspec": {
   "display_name": "Python 3 (system-wide)",
   "language": "python",
   "metadata": {
    "cocalc": {
     "description": "Python 3 programming language",
     "priority": 100,
     "url": "https://www.python.org/"
    }
   },
   "name": "python3",
   "resource_dir": "/ext/jupyter/kernels/python3"
  },
  "language_info": {
   "codemirror_mode": {
    "name": "ipython",
    "version": 3
   },
   "file_extension": ".py",
   "mimetype": "text/x-python",
   "name": "python",
   "nbconvert_exporter": "python",
   "pygments_lexer": "ipython3",
   "version": "3.8.3"
  }
 },
 "nbformat": 4,
 "nbformat_minor": 4
}