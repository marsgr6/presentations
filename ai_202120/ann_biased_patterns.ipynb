{
 "cells": [
  {
   "cell_type": "code",
   "execution_count": 1,
   "metadata": {
    "collapsed": false
   },
   "outputs": [
   ],
   "source": [
    "import numpy as np\n",
    "import matplotlib.pyplot as plt\n",
    "from scipy.stats import binom\n",
    "from scipy.stats import bernoulli\n",
    "from PIL import Image\n",
    "from matplotlib import colors"
   ]
  },
  {
   "cell_type": "code",
   "execution_count": 2,
   "metadata": {
    "collapsed": false
   },
   "outputs": [
   ],
   "source": [
    "# Random network\n",
    "N = 128*128  # number of nodes 128x128 pixels\n",
    "k = 100  # avg. number of connections per node\n",
    "P = 10  # random patterns to learn\n",
    "p = k/N\n",
    "C = []\n",
    "for i in range(N):\n",
    "    C += np.where(np.insert(bernoulli.rvs(p, size=(N-1)), i, 0))\n",
    "C = np.array(C, dtype=\"object\")"
   ]
  },
  {
   "cell_type": "code",
   "execution_count": 3,
   "metadata": {
    "collapsed": false
   },
   "outputs": [
    {
     "data": {
      "text/plain": [
       "(9, 16384)"
      ]
     },
     "execution_count": 3,
     "metadata": {
     },
     "output_type": "execute_result"
    },
    {
     "data": {
      "image/png": "[encoded data removed]",
      "text/plain": [
       "<Figure size 288x288 with 1 Axes>"
      ]
     },
     "execution_count": 3,
     "metadata": {
      "needs_background": "light"
     },
     "output_type": "execute_result"
    }
   ],
   "source": [
    "# Pattern generation, random with p(xi=1)=a\n",
    "\n",
    "P = 9  # random patterns to learn\n",
    "ap = 0.1  # pattern activity\n",
    "X = binom.rvs(n=1, p=ap, size=(P, N))\n",
    "plt.matshow(X[0].reshape(128,128)), np.mean(X)\n",
    "np.shape(X)"
   ]
  },
  {
   "cell_type": "code",
   "execution_count": 4,
   "metadata": {
    "collapsed": false
   },
   "outputs": [
    {
     "name": "stdout",
     "output_type": "stream",
     "text": [
      "activity: 0.1044921875\n"
     ]
    },
    {
     "data": {
      "text/plain": [
       "((10, 16384), 0.1044921875, 0.1044921875)"
      ]
     },
     "execution_count": 4,
     "metadata": {
     },
     "output_type": "execute_result"
    },
    {
     "data": {
      "image/png": "[encoded data removed]",
      "text/plain": [
       "<Figure size 288x288 with 1 Axes>"
      ]
     },
     "execution_count": 4,
     "metadata": {
      "needs_background": "light"
     },
     "output_type": "execute_result"
    }
   ],
   "source": [
    "cmap = colors.ListedColormap(['black', 'white'])\n",
    "\n",
    "img = Image.open('./lenna.png')\n",
    "img = img.resize((128,128), Image.ANTIALIAS)\n",
    "imggs = img.convert('L')\n",
    "th_value = 185\n",
    "imgbw = np.asarray(imggs)\n",
    "imgbw = (imgbw > th_value)*1\n",
    "imgbw = imgbw\n",
    "plt.matshow(imgbw, cmap=cmap)\n",
    "print('activity:', np.mean(imgbw))\n",
    "lenna = imgbw.reshape(1, 128*128)\n",
    "X = np.concatenate((X, lenna))\n",
    "np.shape(X), np.mean(lenna), np.mean(X[-1])"
   ]
  },
  {
   "cell_type": "code",
   "execution_count": 5,
   "metadata": {
    "collapsed": false
   },
   "outputs": [
    {
     "data": {
      "text/plain": [
       "((10, 16384), -7.632783294297952e-18, 1.0, 1.3333333333333333)"
      ]
     },
     "execution_count": 5,
     "metadata": {
     },
     "output_type": "execute_result"
    }
   ],
   "source": [
    "threshold = (1-2*ap)/(2*np.sqrt(ap*(1-ap)))\n",
    "nX = np.array([(x - np.mean(x))/np.sqrt(np.mean(x)*(1-np.mean(x))) for x in X])\n",
    "np.shape(X), np.mean(nX), np.std(nX), threshold"
   ]
  },
  {
   "cell_type": "code",
   "execution_count": 6,
   "metadata": {
    "collapsed": false
   },
   "outputs": [
   ],
   "source": [
    "# Weights initialization\n",
    "W = np.array([np.zeros(len(ci)) for ci in C])\n",
    "\n",
    "#for each pattern x in X\n",
    "for x in nX:\n",
    "    # for each node i\n",
    "    for i in range(N):\n",
    "        W[i] = W[i] + x[C[i]]*x[i]"
   ]
  },
  {
   "cell_type": "code",
   "execution_count": 7,
   "metadata": {
    "collapsed": false
   },
   "outputs": [
   ],
   "source": [
    "def normalize_vector(vector):\n",
    "    av = np.mean(vector)\n",
    "    return (vector - av)/np.sqrt(av*(1-av))\n",
    "\n",
    "def act_threshold(neighbors, th):\n",
    "    threshold = th\n",
    "    if np.mean(neighbors) > 0.5:\n",
    "        threshold = -th\n",
    "    return threshold"
   ]
  },
  {
   "cell_type": "code",
   "execution_count": 8,
   "metadata": {
    "collapsed": false
   },
   "outputs": [
    {
     "data": {
      "text/plain": [
       "(0.0, 1.0)"
      ]
     },
     "execution_count": 8,
     "metadata": {
     },
     "output_type": "execute_result"
    },
    {
     "data": {
      "image/png": "[encoded data removed]",
      "text/plain": [
       "<Figure size 432x288 with 1 Axes>"
      ]
     },
     "execution_count": 8,
     "metadata": {
      "needs_background": "light"
     },
     "output_type": "execute_result"
    }
   ],
   "source": [
    "# Measure the quality of retrieval \n",
    "M = []  # M is 1, perfect retrieval, M is 0 no retrieval\n",
    "\n",
    "#for each pattern x in X\n",
    "for x in X:\n",
    "    xt = np.copy(x)  # pattern x in time 0\n",
    "    \n",
    "    m = [np.sum(normalize_vector(x)*normalize_vector(xt))/N]  # initianl overlap in time 0, x is equal to xt, so m=1\n",
    "    \n",
    "    # update network for 100 steps\n",
    "    for ti in range(100):\n",
    "        # update each neuron xt[nxi]\n",
    "        xt = np.array([(np.mean(normalize_vector(xt[C[nxi]])*W[nxi]) \n",
    "                        - act_threshold(xt[C[nxi]], threshold) >= 0)  # TH(local_field, threshod)\n",
    "                       if np.var(xt[C[nxi]])  # if variance is not zero\n",
    "                       else xt[nxi]  # state does not change otherwise\n",
    "                       for nxi in range(N)])\n",
    "        xt = xt.astype('int')\n",
    "        m += [np.sum(normalize_vector(x)*normalize_vector(xt))/N]  # calculate overlap\n",
    "        if m[-1] == m[-2]:\n",
    "            break\n",
    "    M += [m[-1]]\n",
    "    \n",
    "plt.plot(np.array(range(1,len(X)+1))/k, M, ':o')\n",
    "plt.xlabel(r\"$\\alpha$\")\n",
    "plt.ylabel(\"m\")\n",
    "plt.ylim((0,1))"
   ]
  },
  {
   "cell_type": "code",
   "execution_count": 9,
   "metadata": {
    "collapsed": false
   },
   "outputs": [
    {
     "data": {
      "text/plain": [
       "0.1044921875"
      ]
     },
     "execution_count": 9,
     "metadata": {
     },
     "output_type": "execute_result"
    },
    {
     "data": {
      "image/png": "[encoded data removed]",
      "text/plain": [
       "<Figure size 432x288 with 2 Axes>"
      ]
     },
     "execution_count": 9,
     "metadata": {
      "needs_background": "light"
     },
     "output_type": "execute_result"
    }
   ],
   "source": [
    "plt.subplot(1,2,1)\n",
    "plt.imshow(xt.reshape((128,128)), cmap=cmap)\n",
    "plt.subplot(1,2,2)\n",
    "plt.imshow(imgbw, cmap=cmap)\n",
    "\n",
    "np.mean(X[-1])"
   ]
  },
  {
   "cell_type": "code",
   "execution_count": 12,
   "metadata": {
    "collapsed": false
   },
   "outputs": [
    {
     "data": {
      "text/plain": [
       "<matplotlib.image.AxesImage at 0x7fa5039453a0>"
      ]
     },
     "execution_count": 12,
     "metadata": {
     },
     "output_type": "execute_result"
    },
    {
     "data": {
      "image/png": "[encoded data removed]",
      "text/plain": [
       "<Figure size 432x288 with 2 Axes>"
      ]
     },
     "execution_count": 12,
     "metadata": {
      "needs_background": "light"
     },
     "output_type": "execute_result"
    }
   ],
   "source": [
    "noise_level = 0.9\n",
    "\n",
    "noisy_lenna = lenna.copy()\n",
    "\n",
    "for i in range(np.shape(noisy_lenna)[1]):\n",
    "    if np.random.random() < noise_level:\n",
    "        noisy_lenna[0, i] = bernoulli.rvs(ap)\n",
    "\n",
    "plt.subplot(1,2,1)\n",
    "plt.imshow(X[-1].reshape((128,128)), cmap=cmap)\n",
    "plt.subplot(1,2,2)\n",
    "plt.imshow(noisy_lenna.reshape((128,128)), cmap=cmap)"
   ]
  },
  {
   "cell_type": "code",
   "execution_count": 13,
   "metadata": {
    "collapsed": false
   },
   "outputs": [
    {
     "name": "stdout",
     "output_type": "stream",
     "text": [
      "0.00360107421875\n",
      "0.02740478515625\n",
      "0.0360107421875\n",
      "0.10491943359375\n"
     ]
    },
    {
     "data": {
      "image/png": "[encoded data removed]",
      "text/plain": [
       "<Figure size 1152x2304 with 4 Axes>"
      ]
     },
     "execution_count": 13,
     "metadata": {
      "needs_background": "light"
     },
     "output_type": "execute_result"
    },
    {
     "data": {
      "image/png": "[encoded data removed]",
      "text/plain": [
       "<Figure size 432x288 with 1 Axes>"
      ]
     },
     "execution_count": 13,
     "metadata": {
      "needs_background": "light"
     },
     "output_type": "execute_result"
    },
    {
     "data": {
      "text/plain": [
       "0.99804441364684"
      ]
     },
     "execution_count": 13,
     "metadata": {
     },
     "output_type": "execute_result"
    },
    {
     "data": {
      "image/png": "[encoded data removed]",
      "text/plain": [
       "<Figure size 432x288 with 1 Axes>"
      ]
     },
     "execution_count": 13,
     "metadata": {
      "needs_background": "light"
     },
     "output_type": "execute_result"
    }
   ],
   "source": [
    "x = X[-1]  # Learned Lenna is in X, last pattern\n",
    "\n",
    "xt = np.copy(noisy_lenna.flatten())  # init network in noisy lenna\n",
    "        \n",
    "m = [np.sum(normalize_vector(x)*normalize_vector(xt))/N]  # initial overlap\n",
    "\n",
    "fig, ax = plt.subplots(nrows=1, ncols=4, figsize=(16,32))\n",
    "ploti = 0\n",
    "\n",
    "a_net = []\n",
    "\n",
    "for ti in range(100):\n",
    "    # network update for t=100\n",
    "    a_net += [np.mean(xt)]\n",
    "    # update each neuron xt[nxi]\n",
    "    xt = np.array([(np.mean(normalize_vector(xt[C[nxi]])*W[nxi]) \n",
    "                    - act_threshold(xt[C[nxi]], threshold) >= 0)  # TH(local_field, threshod)\n",
    "                   if np.var(xt[C[nxi]])  # if variance is not zero\n",
    "                   else xt[nxi]  # state does not change otherwise\n",
    "                   for nxi in range(N)])\n",
    "    xt = xt.astype('int')\n",
    "    m += [np.sum(normalize_vector(x)*normalize_vector(xt))/N]  # test overlap x and xt (net state)\n",
    "    if not (ti % 5):\n",
    "        print(np.mean(xt))\n",
    "        ax[ploti].imshow(xt.reshape((128,128)), cmap=cmap)\n",
    "        ploti += 1\n",
    "    if m[-1] == m[-2]:\n",
    "        break\n",
    "plt.show()\n",
    "plt.plot(m)\n",
    "plt.show()\n",
    "plt.plot(a_net)\n",
    "m[-1]"
   ]
  }
 ],
 "metadata": {
  "kernelspec": {
   "display_name": "Python 3 (system-wide)",
   "language": "python",
   "metadata": {
    "cocalc": {
     "description": "Python 3 programming language",
     "priority": 100,
     "url": "https://www.python.org/"
    }
   },
   "name": "python3",
   "resource_dir": "/ext/jupyter/kernels/python3"
  },
  "language_info": {
   "codemirror_mode": {
    "name": "ipython",
    "version": 3
   },
   "file_extension": ".py",
   "mimetype": "text/x-python",
   "name": "python",
   "nbconvert_exporter": "python",
   "pygments_lexer": "ipython3",
   "version": "3.6.9"
  }
 },
 "nbformat": 4,
 "nbformat_minor": 4
}