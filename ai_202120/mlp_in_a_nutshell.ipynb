{
 "cells": [
  {
   "cell_type": "markdown",
   "metadata": {
    "collapsed": false,
    "slideshow": {
     "slide_type": "slide"
    }
   },
   "source": [
    "# Multi-layer perceptron \n",
    "### in a nutshell"
   ]
  },
  {
   "cell_type": "markdown",
   "metadata": {
    "collapsed": false,
    "slideshow": {
     "slide_type": "slide"
    }
   },
   "source": [
    "## Hopfield vs MLP\n",
    "\n",
    "![](https://raw.githubusercontent.com/marsgr6/r-scripts/master/imgs/hopvsmlp.png)\n",
    "\n",
    "- Hopfield\n",
    "  - Non supervised\n",
    "    - Information retrieval\n",
    "  - Learning and retrieval \n",
    "- MLP\n",
    "  - Supervised\n",
    "    - Classification\n",
    "    - Regression \n",
    "  - Training and test"
   ]
  },
  {
   "cell_type": "markdown",
   "metadata": {
    "collapsed": false,
    "slideshow": {
     "slide_type": "slide"
    }
   },
   "source": [
    "## The neural units\n",
    "\n",
    "![](https://codesachin.files.wordpress.com/2015/12/actfn001.jpg?w=454&h=209) \n",
    "\n",
    "![](https://miro.medium.com/max/421/1*-VHew0NkVBK7RrzpHLZ_Hg.png)"
   ]
  },
  {
   "cell_type": "markdown",
   "metadata": {
    "collapsed": false,
    "slideshow": {
     "slide_type": "subslide"
    }
   },
   "source": [
    "### The activiation function\n",
    "\n",
    "![](https://upload.wikimedia.org/wikipedia/commons/thumb/8/88/Logistic-curve.svg/1280px-Logistic-curve.svg.png)\n",
    "\n",
    "- https://deepai.org/machine-learning-glossary-and-terms/sigmoid-function"
   ]
  },
  {
   "cell_type": "markdown",
   "metadata": {
    "collapsed": false,
    "slideshow": {
     "slide_type": "subslide"
    }
   },
   "source": [
    "### Popular activation functions\n",
    "\n",
    "![](https://raw.githubusercontent.com/marsgr6/r-scripts/master/imgs/act_fun.png)"
   ]
  },
  {
   "cell_type": "markdown",
   "metadata": {
    "collapsed": false,
    "slideshow": {
     "slide_type": "slide"
    }
   },
   "source": [
    "## The network structure\n",
    "\n",
    "![](https://miro.medium.com/max/700/1*-IPQlOd46dlsutIbUq1Zcw.png)\n",
    "\n",
    "- https://becominghuman.ai/multi-layer-perceptron-mlp-models-on-real-world-banking-data-f6dd3d7e998f"
   ]
  },
  {
   "cell_type": "markdown",
   "metadata": {
    "collapsed": false,
    "slideshow": {
     "slide_type": "slide"
    }
   },
   "source": [
    "### Feed forward the information\n",
    "\n",
    "- output of first layer\n",
    "\n",
    "![](https://miro.medium.com/max/378/1*TNdVdZ3kilpVy59U3p5WEQ.png)\n",
    "\n",
    "- nth layer output\n",
    "\n",
    "![](https://miro.medium.com/max/303/1*SmeQvtMFOXa9oePc2WJK0A.png)\n",
    "\n",
    "- measure error of the output with the target \n",
    "\n",
    "![](https://s0.wp.com/latex.php?latex=E_%7Btotal%7D+%3D+%5Csum+%5Cfrac%7B1%7D%7B2%7D%28target+-+output%29%5E%7B2%7D&bg=ffffff&fg=404040&s=0&c=20201002)\n",
    "\n"
   ]
  },
  {
   "cell_type": "markdown",
   "metadata": {
    "collapsed": false,
    "slideshow": {
     "slide_type": "slide"
    }
   },
   "source": [
    "### The learning algorithm (backpropagation)\n",
    "\n",
    "![](https://raw.githubusercontent.com/marsgr6/r-scripts/master/imgs/backpropagation.png)\n",
    "\n",
    "- https://mattmazur.com/2015/03/17/a-step-by-step-backpropagation-example/"
   ]
  },
  {
   "cell_type": "markdown",
   "metadata": {
    "collapsed": false,
    "slideshow": {
     "slide_type": "subslide"
    }
   },
   "source": [
    "### Backpropagation pseudocode\n",
    "\n",
    "![](https://raw.githubusercontent.com/marsgr6/r-scripts/master/imgs/bppseudocode.png)"
   ]
  },
  {
   "cell_type": "markdown",
   "metadata": {
    "collapsed": false,
    "slideshow": {
     "slide_type": "slide"
    }
   },
   "source": [
    "## The XOR problem\n",
    "\n",
    "![](https://res.cloudinary.com/practicaldev/image/fetch/s--O_kCr-s2--/c_imagga_scale,f_auto,fl_progressive,h_420,q_auto,w_1000/https://dev-to-uploads.s3.amazonaws.com/i/lkli02223oqhlac1jetz.png) \n",
    "\n",
    "![](https://res.cloudinary.com/practicaldev/image/fetch/s--6OpbLFPq--/c_limit%2Cf_auto%2Cfl_progressive%2Cq_auto%2Cw_880/https://cdn-images-1.medium.com/max/2000/0%2ALYlt6CZJHOJkNRHJ.)\n",
    "\n",
    "- https://dev.to/jbahire/demystifying-the-xor-problem-1blk"
   ]
  },
  {
   "cell_type": "code",
   "execution_count": 5,
   "metadata": {
    "collapsed": false,
    "slideshow": {
     "slide_type": "subslide"
    }
   },
   "outputs": [
    {
     "data": {
      "text/plain": [
       "(matrix([[0, 0],\n",
       "         [1, 0],\n",
       "         [0, 1],\n",
       "         [1, 1]]),\n",
       " matrix([[0],\n",
       "         [1],\n",
       "         [1],\n",
       "         [0]]))"
      ]
     },
     "execution_count": 5,
     "metadata": {
     },
     "output_type": "execute_result"
    }
   ],
   "source": [
    "import numpy as np\n",
    "import matplotlib.pyplot as plt\n",
    "from sklearn.metrics import mean_squared_error\n",
    "\n",
    "# Parameters, neurons: input, hidden, output\n",
    "N_i = 2; N_h = 4; N_o = 1\n",
    "\n",
    "# XOR input\n",
    "r_i = np.matrix('0 1 0 1; 0 0 1 1')\n",
    "\n",
    "# XOR output\n",
    "r_d = np.matrix('0 1 1 0')\n",
    "\n",
    "r_i.T, r_d.T"
   ]
  },
  {
   "cell_type": "markdown",
   "metadata": {
    "collapsed": false,
    "slideshow": {
     "slide_type": "subslide"
    }
   },
   "source": [
    "```python\n",
    "# Initialize randomly the weights\n",
    "# Hidden layer\n",
    "w_h = np.random.rand(N_h,N_i) - 0.5\n",
    "# Output layer\n",
    "w_o=np.random.rand(N_o,N_h) - 0.5\n",
    "training_steps = 10000\n",
    "mse = []\n",
    "\n",
    "for i in range(training_steps):\n",
    "    # Select training pattern randomly\n",
    "    i = np.floor(4*np.random.rand()).astype('int')\n",
    "    # Feed-forward the input to hidden layer\n",
    "    r_h = 1 / (1 + np.exp(-w_h*r_i[:,i]))\n",
    "    # Feed-forward the input to the output layer\n",
    "    r_o = 1 / (1 + np.exp(-w_o*r_h))\n",
    "    # Calculate the network error\n",
    "    d_o = (r_o*(1-r_o)) * (r_d[:,i] - r_o)\n",
    "    # Calculate the responsability of the hidden network in the error\n",
    "    d_h = np.multiply(np.multiply(r_h, (1-r_h)), (w_o.T*d_o))\n",
    "    # Update weights\n",
    "    w_o = w_o + 0.7*(r_h*d_o.T).T\n",
    "    w_h = w_h + 0.7*(r_i[:,i]*d_h.T).T\n",
    "    # Test all patterns\n",
    "    r_o_test = 1 / (1 + np.exp(-w_o*(1/(1+np.exp(-w_h*r_i)))))\n",
    "    mse += [mean_squared_error(r_d, r_o_test)]\n",
    "    \n",
    "plt.plot(mse)\n",
    "```"
   ]
  },
  {
   "cell_type": "markdown",
   "metadata": {
    "collapsed": false,
    "slideshow": {
     "slide_type": "slide"
    }
   },
   "source": [
    "### Sources and resources\n",
    "\n",
    "- https://aulasvirtuales.udla.edu.ec/udlapresencial/pluginfile.php/1622341/mod_resource/content/8/IA13.pdf\n",
    "- https://anaconda.org/marsgr6/mlp/notebook\n",
    "- https://paginas.fe.up.pt/~ec/files_1112/week_10_NN_and_SVM_JMM.pdf\n",
    "- https://heartbeat.fritz.ai/backpropagation-broken-down-4c52bdcb4bb\n",
    "- https://towardsdatascience.com/an-introduction-to-gradient-descent-and-backpropagation-81648bdb19b2\n",
    "- https://codesachin.wordpress.com/2015/12/06/backpropagation-for-dummies/\n",
    "- https://mattmazur.com/2015/03/17/a-step-by-step-backpropagation-example/"
   ]
  }
 ],
 "metadata": {
  "kernelspec": {
   "display_name": "Python 3 (system-wide)",
   "language": "python",
   "metadata": {
    "cocalc": {
     "description": "Python 3 programming language",
     "priority": 100,
     "url": "https://www.python.org/"
    }
   },
   "name": "python3",
   "resource_dir": "/ext/jupyter/kernels/python3"
  },
  "language_info": {
   "codemirror_mode": {
    "name": "ipython",
    "version": 3
   },
   "file_extension": ".py",
   "mimetype": "text/x-python",
   "name": "python",
   "nbconvert_exporter": "python",
   "pygments_lexer": "ipython3",
   "version": "3.6.9"
  }
 },
 "nbformat": 4,
 "nbformat_minor": 4
}